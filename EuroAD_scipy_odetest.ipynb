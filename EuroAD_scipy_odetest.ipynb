{
  "nbformat": 4,
  "nbformat_minor": 0,
  "metadata": {
    "colab": {
      "provenance": [],
      "include_colab_link": true
    },
    "kernelspec": {
      "name": "python3",
      "display_name": "Python 3"
    },
    "language_info": {
      "name": "python"
    }
  },
  "cells": [
    {
      "cell_type": "markdown",
      "metadata": {
        "id": "view-in-github",
        "colab_type": "text"
      },
      "source": [
        "<a href=\"https://colab.research.google.com/github/sriharikrishna/EuroAD26/blob/main/EuroAD_scipy_odetest.ipynb\" target=\"_parent\"><img src=\"https://colab.research.google.com/assets/colab-badge.svg\" alt=\"Open In Colab\"/></a>"
      ]
    },
    {
      "cell_type": "markdown",
      "source": [
        "The initial code was written in SciPy. The ODE solver is implemented through ```scipy.integrate.solve_ivp```\n",
        "\n"
      ],
      "metadata": {
        "id": "9UiXjl0NxfLQ"
      }
    },
    {
      "cell_type": "code",
      "source": [
        "import numpy as np\n",
        "import scipy\n",
        "\n",
        "def solver(y0, t_f, A):\n",
        "  def ode_fn(_, y, B):\n",
        "    return np.matmul(B[0],y)\n",
        "\n",
        "  solution = scipy.integrate.solve_ivp(\n",
        "        ode_fn,\n",
        "        [0, t_f],\n",
        "        y0,\n",
        "        t_eval=[t_f],\n",
        "        method=\"DOP853\",\n",
        "        args=(A,),\n",
        "    )\n",
        "  final_vec = solution.y[:, -1]\n",
        "  return final_vec.reshape(y0.shape)\n"
      ],
      "metadata": {
        "id": "r72nol1eBYAr"
      },
      "execution_count": null,
      "outputs": []
    },
    {
      "cell_type": "markdown",
      "source": [
        "Let us now call the solver"
      ],
      "metadata": {
        "id": "SjIcS25ayOjG"
      }
    },
    {
      "cell_type": "code",
      "source": [
        "t_f = np.array(2., dtype=np.float64)\n",
        "\n",
        "y0 = np.array([1.0, 9.0], dtype=np.float64)\n",
        "\n",
        "A = np.array([[0, 1.0],\n",
        "               [- 100.0, 0]], dtype=np.float64)\n",
        "\n",
        "print(solver(y0, t_f, A))"
      ],
      "metadata": {
        "id": "znXWjHRDBpix"
      },
      "execution_count": null,
      "outputs": []
    },
    {
      "cell_type": "markdown",
      "source": [
        "Changing the datatype to ```complex128``` results in a failure."
      ],
      "metadata": {
        "id": "Qd2uyeX9yY6g"
      }
    },
    {
      "cell_type": "code",
      "source": [
        "t_f = np.array(2., dtype=np.complex128)\n",
        "\n",
        "y0 = np.array([1.0, 9.0], dtype=np.complex128)\n",
        "\n",
        "A = np.array([[0, 1.0],\n",
        "               [- 100.0, 0]], dtype=np.complex128)\n",
        "\n",
        "print(solver(y0, t_f, A))"
      ],
      "metadata": {
        "id": "jCfmF3nnBi-q"
      },
      "execution_count": null,
      "outputs": []
    },
    {
      "cell_type": "markdown",
      "source": [
        "There is a way out. We can maintain the time variable to be ```float64``` type."
      ],
      "metadata": {
        "id": "V81XRSa2ymzD"
      }
    },
    {
      "cell_type": "code",
      "source": [
        "t_f = np.array(2., dtype=np.float64)\n",
        "\n",
        "y0 = np.array([1.0, 9.0], dtype=np.complex128)\n",
        "\n",
        "A = np.array([[0, 1.0],\n",
        "               [- 100.0, 0]], dtype=np.complex128)\n",
        "\n",
        "print(solver(y0, t_f, A))"
      ],
      "metadata": {
        "id": "EDZ4xMnQGLG3"
      },
      "execution_count": null,
      "outputs": []
    },
    {
      "cell_type": "markdown",
      "source": [
        "The HIPS Autograd package can be used to provide AD capability for Scipy. We simply have to change which NumPy and SciPy packages that we already use."
      ],
      "metadata": {
        "id": "yaEymaPEyw0t"
      }
    },
    {
      "cell_type": "code",
      "source": [
        "import autograd\n",
        "import autograd.numpy as np\n",
        "import autograd.scipy as scipy\n",
        "\n",
        "def solver(y0, t_f, A):\n",
        "  t = np.linspace(0., t_f, 10)\n",
        "  def ode_fn(_, y, B):\n",
        "    return np.matmul(B[0],y)\n",
        "\n",
        "  solution = scipy.integrate.solve_ivp(\n",
        "        ode_fn,\n",
        "        [0, t_f],\n",
        "        y0,\n",
        "        t_eval=[t_f],\n",
        "        method=\"DOP853\",\n",
        "        args=(A,),\n",
        "    )\n",
        "  final_vec = solution.y[:, -1]\n",
        "  return final_vec.reshape(y0.shape)"
      ],
      "metadata": {
        "id": "IgqdJPdBGwtv"
      },
      "execution_count": null,
      "outputs": []
    },
    {
      "cell_type": "markdown",
      "source": [
        "But Autograd does not support ```scipy.integrate.solve_ivp```. This was a problem for the Physicists!"
      ],
      "metadata": {
        "id": "436ehjhBzU2Y"
      }
    },
    {
      "cell_type": "code",
      "source": [
        "t_f = np.array(2., dtype=np.float64)\n",
        "\n",
        "y0 = np.array([1.0, 9.0], dtype=np.float64)\n",
        "\n",
        "A = np.array([[0, 1.0],\n",
        "               [- 100.0, 0]], dtype=np.float64)\n",
        "\n",
        "print(solver(y0, t_f, A))"
      ],
      "metadata": {
        "id": "Eje5vS7SLhAE"
      },
      "execution_count": null,
      "outputs": []
    },
    {
      "cell_type": "markdown",
      "source": [
        "Autograd instead supports ```scipy.integrate.odeint```\n",
        "\n"
      ],
      "metadata": {
        "id": "apb2hWhzzpRq"
      }
    },
    {
      "cell_type": "code",
      "source": [
        "import autograd\n",
        "import autograd.numpy as np\n",
        "import autograd.scipy as scipy\n",
        "\n",
        "def solver(y0, t_f, A):\n",
        "  def ode_fn(y, _, B):\n",
        "    return np.matmul(B,y)\n",
        "  #Solve a system of ordinary differential equations using lsoda from the FORTRAN library odepack.\n",
        "  solution = scipy.integrate.odeint(\n",
        "        ode_fn,\n",
        "        y0,\n",
        "        [0, t_f],\n",
        "        (A,),\n",
        "    )\n",
        "  final_vec = solution[-1]\n",
        "  return final_vec.reshape(y0.shape)"
      ],
      "metadata": {
        "id": "iJOp8RjqNznZ"
      },
      "execution_count": null,
      "outputs": []
    },
    {
      "cell_type": "markdown",
      "source": [
        "Let us call it. I still need to figure out how to make the two answers match!"
      ],
      "metadata": {
        "id": "du2YTn-2zwD-"
      }
    },
    {
      "cell_type": "code",
      "source": [
        "t_f = np.array(2., dtype=np.float64)\n",
        "\n",
        "y0 = np.array([1.0, 9.0], dtype=np.float64)\n",
        "\n",
        "A = np.array([[0, 1.0],\n",
        "               [- 100.0, 0]], dtype=np.float64)\n",
        "\n",
        "print(solver(y0, t_f, A))"
      ],
      "metadata": {
        "id": "7p6yKmwfPago"
      },
      "execution_count": null,
      "outputs": []
    },
    {
      "cell_type": "markdown",
      "source": [
        "We can now differentiate ```odeint```!"
      ],
      "metadata": {
        "id": "miUFhNGg3nRk"
      }
    },
    {
      "cell_type": "code",
      "source": [
        "from autograd import grad, jacobian\n",
        "\n",
        "print(jacobian(solver)(y0, t_f, A))\n"
      ],
      "metadata": {
        "id": "Q_sjHD9wcBfB"
      },
      "execution_count": null,
      "outputs": []
    },
    {
      "cell_type": "markdown",
      "source": [
        "Let us try some ```complex valued``` input"
      ],
      "metadata": {
        "id": "0ezznzrk34gi"
      }
    },
    {
      "cell_type": "code",
      "source": [
        "t_f = np.array(2., dtype=np.float64)\n",
        "\n",
        "y0 = np.array([1.0, 9.0], dtype=np.complex128)\n",
        "\n",
        "A = np.array([[0, 1.0],\n",
        "               [- 100.0, 0]], dtype=np.complex128)\n",
        "\n",
        "print(solver(y0, t_f, A))"
      ],
      "metadata": {
        "id": "dhkfYCHW3xzy"
      },
      "execution_count": null,
      "outputs": []
    },
    {
      "cell_type": "markdown",
      "source": [
        "Conclusion: Look elsewhere!"
      ],
      "metadata": {
        "id": "8i1Uw_vR4Q8V"
      }
    }
  ]
}