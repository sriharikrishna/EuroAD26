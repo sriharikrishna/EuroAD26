{
  "nbformat": 4,
  "nbformat_minor": 0,
  "metadata": {
    "colab": {
      "provenance": [],
      "authorship_tag": "ABX9TyNU/YedktZjUIcTvWbpo3Ym",
      "include_colab_link": true
    },
    "kernelspec": {
      "name": "python3",
      "display_name": "Python 3"
    },
    "language_info": {
      "name": "python"
    }
  },
  "cells": [
    {
      "cell_type": "markdown",
      "metadata": {
        "id": "view-in-github",
        "colab_type": "text"
      },
      "source": [
        "<a href=\"https://colab.research.google.com/github/sriharikrishna/EuroAD26/blob/main/diffrax_odetest.ipynb\" target=\"_parent\"><img src=\"https://colab.research.google.com/assets/colab-badge.svg\" alt=\"Open In Colab\"/></a>"
      ]
    },
    {
      "cell_type": "markdown",
      "source": [
        "Install ```diffrax```."
      ],
      "metadata": {
        "id": "buJJNIZtZbf7"
      }
    },
    {
      "cell_type": "code",
      "source": [
        "!pip uninstall diffrax\n",
        "!pip install git+https://github.com/patrick-kidger/diffrax.git"
      ],
      "metadata": {
        "id": "7ymovh4hdS9S"
      },
      "execution_count": null,
      "outputs": []
    },
    {
      "cell_type": "markdown",
      "source": [
        "Imports"
      ],
      "metadata": {
        "id": "qbb_IpidfpUa"
      }
    },
    {
      "cell_type": "code",
      "source": [
        "from diffrax import diffeqsolve, ODETerm, Dopri5, Tsit5\n",
        "import jax\n",
        "import jax.numpy as jnp\n",
        "jax.config.update(\"jax_enable_x64\", True)"
      ],
      "metadata": {
        "id": "oY2zywBFIlI7"
      },
      "execution_count": null,
      "outputs": []
    },
    {
      "cell_type": "markdown",
      "source": [
        "Define a `solver` wrapper around `diffeqsolve`. You can choose between `Dopri5()` and `Tsit5()`."
      ],
      "metadata": {
        "id": "641DlldHZmp9"
      }
    },
    {
      "cell_type": "code",
      "source": [
        "def solver(y0, t_i, t_f, A):\n",
        "  def ode_fn(t, y, B):\n",
        "    return jnp.matmul(B[0],y)\n",
        "  term = ODETerm(ode_fn)\n",
        "  #ODEsolver = Dopri5()\n",
        "  ODEsolver = Tsit5()\n",
        "  solution = diffeqsolve(term, ODEsolver, t0=t_i, t1=t_f, dt0=0.2, y0=y0, args=(A,))\n",
        "  return solution.ys\n"
      ],
      "metadata": {
        "id": "Tl0KQROBI9ed"
      },
      "execution_count": null,
      "outputs": []
    },
    {
      "cell_type": "markdown",
      "source": [
        "Call the solver with `float64` datatype"
      ],
      "metadata": {
        "id": "p-dRvyUkZt_1"
      }
    },
    {
      "cell_type": "code",
      "source": [
        "t_i = 0.\n",
        "t_f = jnp.array(2., dtype=jnp.float64)\n",
        "\n",
        "y0 = jnp.array([[1.0, 9.0],\n",
        "               [1.0, 9.0]], dtype=jnp.float64)\n",
        "A = jnp.array([[0, 1.0],\n",
        "               [- 100.0, 0]], dtype=jnp.float64)\n",
        "\n",
        "solution = solver(y0, t_i, t_f, A)\n",
        "\n",
        "print(solution)"
      ],
      "metadata": {
        "id": "emdiN9evWrYi"
      },
      "execution_count": null,
      "outputs": []
    },
    {
      "cell_type": "markdown",
      "source": [
        "Let us now try the code with complex values."
      ],
      "metadata": {
        "id": "d-9qXK-TZz_B"
      }
    },
    {
      "cell_type": "code",
      "source": [
        "t_i = 0.\n",
        "t_f = jnp.array(2., dtype=jnp.float64)\n",
        "y0 = jnp.array([[1.0-1j, 9.0-2j],\n",
        "                [1.0-1j, 9.0-2j]], dtype=jnp.complex128)\n",
        "A = jnp.array([[0-1j, 1.0+2j],\n",
        "               [- 100.0+3j, 0+4j]], dtype=jnp.complex128)\n",
        "\n",
        "solution = solver(y0, t_i, t_f, A)\n",
        "\n",
        "print(solution)"
      ],
      "metadata": {
        "id": "P4ldvtr4JhRT"
      },
      "execution_count": null,
      "outputs": []
    },
    {
      "cell_type": "markdown",
      "source": [
        "When we compute the Jacobian for function with complex outputs, we must set `holomorphic=true`. A [holomorphic function](https://en.wikipedia.org/wiki/Holomorphic_function) is a complex-valued function of one or more complex variables that is complex differentiable in a neighbourhood of each point in a domain in complex coordinate space C^n.\n",
        "\n",
        "We must also set `t_i` and `t_f` to be complex valued."
      ],
      "metadata": {
        "id": "oiwqwncqaAB6"
      }
    },
    {
      "cell_type": "code",
      "source": [
        "t_i = jnp.array(0.+0j, dtype=jnp.complex128)\n",
        "t_f = jnp.array(2.+0j, dtype=jnp.complex128)\n",
        "y0 = jnp.array([[1.0-1j, 9.0-2j],\n",
        "                [1.0-1j, 9.0-2j]], dtype=jnp.complex128)\n",
        "\n",
        "A = jnp.array([[0-1j, 1.0+2j],\n",
        "               [- 100.0+3j, 0+4j]], dtype=jnp.complex128)\n",
        "jacrev_fun = jax.jacrev(solver, argnums=(2),holomorphic=True)\n",
        "jac = jacrev_fun(y0, t_i, t_f, A)\n",
        "print(jac)"
      ],
      "metadata": {
        "id": "TTcQ6BW-AE2C"
      },
      "execution_count": null,
      "outputs": []
    }
  ]
}