{
  "nbformat": 4,
  "nbformat_minor": 0,
  "metadata": {
    "colab": {
      "provenance": [],
      "authorship_tag": "ABX9TyMllOMC9twr/NAc0lpMuCLs",
      "include_colab_link": true
    },
    "kernelspec": {
      "name": "python3",
      "display_name": "Python 3"
    },
    "language_info": {
      "name": "python"
    }
  },
  "cells": [
    {
      "cell_type": "markdown",
      "metadata": {
        "id": "view-in-github",
        "colab_type": "text"
      },
      "source": [
        "<a href=\"https://colab.research.google.com/github/sriharikrishna/EuroAD26/blob/main/diffrax_odetest.ipynb\" target=\"_parent\"><img src=\"https://colab.research.google.com/assets/colab-badge.svg\" alt=\"Open In Colab\"/></a>"
      ]
    },
    {
      "cell_type": "code",
      "execution_count": 56,
      "metadata": {
        "colab": {
          "base_uri": "https://localhost:8080/",
          "height": 505
        },
        "id": "tYo7f2sbIhSg",
        "outputId": "b0c99478-e790-47e1-ef12-23484244a588"
      },
      "outputs": [
        {
          "output_type": "stream",
          "name": "stdout",
          "text": [
            "Found existing installation: diffrax 0.4.1\n",
            "Uninstalling diffrax-0.4.1:\n",
            "  Would remove:\n",
            "    /usr/local/lib/python3.10/dist-packages/diffrax-0.4.1.dist-info/*\n",
            "    /usr/local/lib/python3.10/dist-packages/diffrax/*\n",
            "    /usr/local/lib/python3.10/dist-packages/test/*\n",
            "Proceed (Y/n)? y\n",
            "  Successfully uninstalled diffrax-0.4.1\n",
            "Collecting diffrax\n",
            "  Using cached diffrax-0.4.1-py3-none-any.whl (161 kB)\n",
            "Requirement already satisfied: jax>=0.4.13 in /usr/local/lib/python3.10/dist-packages (from diffrax) (0.4.20)\n",
            "Requirement already satisfied: equinox>=0.10.11 in /usr/local/lib/python3.10/dist-packages (from diffrax) (0.11.2)\n",
            "Requirement already satisfied: jaxtyping>=0.2.20 in /usr/local/lib/python3.10/dist-packages (from equinox>=0.10.11->diffrax) (0.2.24)\n",
            "Requirement already satisfied: typing-extensions>=4.5.0 in /usr/local/lib/python3.10/dist-packages (from equinox>=0.10.11->diffrax) (4.5.0)\n",
            "Requirement already satisfied: ml-dtypes>=0.2.0 in /usr/local/lib/python3.10/dist-packages (from jax>=0.4.13->diffrax) (0.2.0)\n",
            "Requirement already satisfied: numpy>=1.22 in /usr/local/lib/python3.10/dist-packages (from jax>=0.4.13->diffrax) (1.23.5)\n",
            "Requirement already satisfied: opt-einsum in /usr/local/lib/python3.10/dist-packages (from jax>=0.4.13->diffrax) (3.3.0)\n",
            "Requirement already satisfied: scipy>=1.9 in /usr/local/lib/python3.10/dist-packages (from jax>=0.4.13->diffrax) (1.11.4)\n",
            "Requirement already satisfied: typeguard<3,>=2.13.3 in /usr/local/lib/python3.10/dist-packages (from jaxtyping>=0.2.20->equinox>=0.10.11->diffrax) (2.13.3)\n",
            "Installing collected packages: diffrax\n",
            "Successfully installed diffrax-0.4.1\n"
          ]
        },
        {
          "output_type": "display_data",
          "data": {
            "application/vnd.colab-display-data+json": {
              "pip_warning": {
                "packages": [
                  "diffrax"
                ]
              }
            }
          },
          "metadata": {}
        }
      ],
      "source": [
        "!pip uninstall diffrax\n",
        "!pip install diffrax\n",
        "#!pip install git+https://github.com/patrick-kidger/diffrax.git\n"
      ]
    },
    {
      "cell_type": "code",
      "source": [
        "from diffrax import diffeqsolve, ODETerm, Dopri5, Tsit5\n",
        "import jax.numpy as jnp\n",
        "import jax\n",
        "jax.config.update(\"jax_enable_x64\", True)"
      ],
      "metadata": {
        "id": "oY2zywBFIlI7"
      },
      "execution_count": 57,
      "outputs": []
    },
    {
      "cell_type": "code",
      "source": [
        "def solver(y0, t_i, t_f, A):\n",
        "  def ode_fn(t, y, B):\n",
        "    return jnp.matmul(B[0],y)\n",
        "  term = ODETerm(ode_fn)\n",
        "  #ODEsolver = Dopri5()\n",
        "  ODEsolver = Tsit5()\n",
        "  solution = diffeqsolve(term, ODEsolver, t0=t_i, t1=t_f, dt0=0.2, y0=y0, args=(A,))\n",
        "  return solution.ys\n"
      ],
      "metadata": {
        "id": "Tl0KQROBI9ed"
      },
      "execution_count": 58,
      "outputs": []
    },
    {
      "cell_type": "code",
      "source": [
        "t_i = 0.\n",
        "t_f = jnp.array(2., dtype=jnp.float64)\n",
        "\n",
        "y0 = jnp.array([[1.0, 9.0],\n",
        "               [1.0, 9.0]], dtype=jnp.float64)\n",
        "A = jnp.array([[0, 1.0],\n",
        "               [- 100.0, 0]], dtype=jnp.float64)\n",
        "\n",
        "solution = solver(y0, t_i, t_f, A)\n",
        "\n",
        "print(solution)"
      ],
      "metadata": {
        "colab": {
          "base_uri": "https://localhost:8080/"
        },
        "id": "emdiN9evWrYi",
        "outputId": "68361764-abbf-427b-c843-51e0faa3a2da"
      },
      "execution_count": 59,
      "outputs": [
        {
          "output_type": "stream",
          "name": "stdout",
          "text": [
            "[[[  0.66391629   5.97524664]\n",
            "  [-11.09835404 -99.8851864 ]]]\n"
          ]
        }
      ]
    },
    {
      "cell_type": "code",
      "source": [
        "t_i = 0.\n",
        "t_f = jnp.array(2., dtype=jnp.float64)\n",
        "\n",
        "y0 = jnp.array([[1.0-1j, 9.0-2j],\n",
        "                [1.0-1j, 9.0-2j]], dtype=jnp.complex128)\n",
        "A = jnp.array([[0-1j, 1.0+2j],\n",
        "               [- 100.0+3j, 0+4j]], dtype=jnp.complex128)\n",
        "\n",
        "solution = solver(y0, t_i, t_f, A)\n",
        "\n",
        "print(solution)"
      ],
      "metadata": {
        "colab": {
          "base_uri": "https://localhost:8080/"
        },
        "id": "P4ldvtr4JhRT",
        "outputId": "353cb09b-e1c5-4a79-a7e4-5f8e2a4d652c"
      },
      "execution_count": 60,
      "outputs": [
        {
          "output_type": "stream",
          "name": "stdout",
          "text": [
            "[[[ 1724938.16948032 +1617123.08186009j\n",
            "    3827229.14563176+14931460.54341212j]\n",
            "  [ 3648413.14946532-13206359.14799311j\n",
            "   66288529.34003741-59865529.29083761j]]]\n"
          ]
        }
      ]
    },
    {
      "cell_type": "code",
      "source": [
        "t_i = jnp.array(0.+0j, dtype=jnp.complex128)\n",
        "t_f = jnp.array(2.+0j, dtype=jnp.complex128)\n",
        "y0 = jnp.array([[1.0-1j, 9.0-2j],\n",
        "                [1.0-1j, 9.0-2j]], dtype=jnp.complex128)\n",
        "\n",
        "A = jnp.array([[0-1j, 1.0+2j],\n",
        "               [- 100.0+3j, 0+4j]], dtype=jnp.complex128)\n",
        "jacrev_fun = jax.jacrev(solver, argnums=(2),holomorphic=True)\n",
        "jac = jacrev_fun(y0, t_i, t_f, A)\n",
        "print(jac)"
      ],
      "metadata": {
        "colab": {
          "base_uri": "https://localhost:8080/"
        },
        "id": "TTcQ6BW-AE2C",
        "outputId": "96f629e0-bc25-40f0-a383-c70fd1ae1d56"
      },
      "execution_count": 61,
      "outputs": [
        {
          "output_type": "stream",
          "name": "stdout",
          "text": [
            "[[[ 3.49859488e+07-1.05739384e+07j  2.29431503e+08+6.42941598e+07j]\n",
            "  [-1.48511892e+08-1.50992711e+08j -2.88340914e+08-1.35025153e+09j]]]\n"
          ]
        }
      ]
    }
  ]
}