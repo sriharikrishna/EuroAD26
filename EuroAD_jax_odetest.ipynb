{
  "nbformat": 4,
  "nbformat_minor": 0,
  "metadata": {
    "colab": {
      "provenance": []
    },
    "kernelspec": {
      "name": "python3",
      "display_name": "Python 3"
    },
    "language_info": {
      "name": "python"
    }
  },
  "cells": [
    {
      "cell_type": "code",
      "source": [
        "import jax\n",
        "import jax.numpy as jnp\n",
        "from jax.experimental.ode import odeint\n",
        "jax.config.update(\"jax_enable_x64\", True)"
      ],
      "metadata": {
        "id": "iCVU06cMjg28"
      },
      "execution_count": null,
      "outputs": []
    },
    {
      "cell_type": "code",
      "source": [
        "def solver(y0, t_f, A):\n",
        "  t = jnp.linspace(0., jnp.real(t_f), 10)\n",
        "  def ode_fn(y, _, B):\n",
        "    print(\"In ode_fn \", B[0], y)\n",
        "    return jnp.matmul(B[0],y)\n",
        "\n",
        "  return odeint(ode_fn, y0, t, (A,))[-1]"
      ],
      "metadata": {
        "id": "O9jSdutskllC"
      },
      "execution_count": null,
      "outputs": []
    },
    {
      "cell_type": "code",
      "source": [
        "t_i = 0.\n",
        "t_f = jnp.array(2., dtype=jnp.float64)\n",
        "\n",
        "y0 = jnp.array([[1.0, 9.0],\n",
        "               [1.0, 9.0]], dtype=jnp.float64)\n",
        "A = jnp.array([[0, 1.0],\n",
        "               [- 100.0, 0]], dtype=jnp.float64)\n",
        "\n",
        "print(solver(y0, t_f, A))"
      ],
      "metadata": {
        "id": "sHMsABvkjqfz"
      },
      "execution_count": null,
      "outputs": []
    },
    {
      "cell_type": "code",
      "source": [
        "t_f = jnp.array(2., dtype=jnp.float64)\n",
        "y0 = jnp.array([[1.0, 9.0],\n",
        "               [1.0, 9.0]], dtype=jnp.float64)\n",
        "A = jnp.array([[0, 1.0],\n",
        "               [- 100.0, 0]], dtype=jnp.float64)\n",
        "jacrev_fun = jax.jacrev(solver, argnums=(1),holomorphic=False)\n",
        "jac = jacrev_fun(y0, t_f, A)\n",
        "print(jac)"
      ],
      "metadata": {
        "id": "_ZguogFDzSn8"
      },
      "execution_count": null,
      "outputs": []
    },
    {
      "cell_type": "code",
      "source": [
        "t_f = jnp.array(2.+0j, dtype=jnp.float64)\n",
        "y0 = jnp.array([[1.0-1j, 9.0-2j],\n",
        "                [1.0-1j, 9.0-2j]], dtype=jnp.complex128)\n",
        "\n",
        "A = jnp.array([[0-1j, 1.0+2j],\n",
        "               [- 100.0+3j, 0+4j]], dtype=jnp.complex128)\n",
        "jacrev_fun = jax.jacrev(solver, argnums=(1),holomorphic=True)\n",
        "jac = jacrev_fun(y0, t_f, A)\n",
        "print(jac)"
      ],
      "metadata": {
        "id": "cQ7eHHP6zm1N"
      },
      "execution_count": null,
      "outputs": []
    },
    {
      "cell_type": "code",
      "source": [
        "t_f = jnp.array(2.+0j, dtype=jnp.complex128)\n",
        "y0 = jnp.array([[1.0-1j, 9.0-2j],\n",
        "                [1.0-1j, 9.0-2j]], dtype=jnp.complex128)\n",
        "\n",
        "A = jnp.array([[0-1j, 1.0+2j],\n",
        "               [- 100.0+3j, 0+4j]], dtype=jnp.complex128)\n",
        "jacrev_fun = jax.jacrev(solver, argnums=(1),holomorphic=True)\n",
        "jac = jacrev_fun(y0, t_f, A)\n",
        "print(jac)"
      ],
      "metadata": {
        "id": "Q8DiXDKmuJhW"
      },
      "execution_count": null,
      "outputs": []
    },
    {
      "cell_type": "markdown",
      "source": [
        "https://github.com/google/jax/blob/main/jax/experimental/ode.py"
      ],
      "metadata": {
        "id": "AQ8Y4lbX1o--"
      }
    }
  ]
}