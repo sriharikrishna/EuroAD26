{
  "nbformat": 4,
  "nbformat_minor": 0,
  "metadata": {
    "colab": {
      "provenance": [],
      "authorship_tag": "ABX9TyOfBvz+JofG+wY+sKE4+7fq",
      "include_colab_link": true
    },
    "kernelspec": {
      "name": "python3",
      "display_name": "Python 3"
    },
    "language_info": {
      "name": "python"
    }
  },
  "cells": [
    {
      "cell_type": "markdown",
      "metadata": {
        "id": "view-in-github",
        "colab_type": "text"
      },
      "source": [
        "<a href=\"https://colab.research.google.com/github/sriharikrishna/EuroAD26/blob/main/EuroAD_jax_odetest.ipynb\" target=\"_parent\"><img src=\"https://colab.research.google.com/assets/colab-badge.svg\" alt=\"Open In Colab\"/></a>"
      ]
    },
    {
      "cell_type": "markdown",
      "source": [
        "Import ```odeint``` from JAX."
      ],
      "metadata": {
        "id": "ngSQOnNdWr_r"
      }
    },
    {
      "cell_type": "code",
      "source": [
        "import jax\n",
        "import jax.numpy as jnp\n",
        "from jax.experimental.ode import odeint\n",
        "jax.config.update(\"jax_enable_x64\", True)"
      ],
      "metadata": {
        "id": "iCVU06cMjg28"
      },
      "execution_count": null,
      "outputs": []
    },
    {
      "cell_type": "markdown",
      "source": [
        "Define a `solver` wrapper around `odeint`"
      ],
      "metadata": {
        "id": "o3hzpbWpWzS3"
      }
    },
    {
      "cell_type": "code",
      "source": [
        "def solver(y0, t_f, A):\n",
        "  t = jnp.linspace(0., jnp.real(t_f), 10)\n",
        "  def ode_fn(y, _, B):\n",
        "    return jnp.matmul(B[0],y)\n",
        "\n",
        "  return odeint(ode_fn, y0, t, (A,))[-1]"
      ],
      "metadata": {
        "id": "O9jSdutskllC"
      },
      "execution_count": null,
      "outputs": []
    },
    {
      "cell_type": "markdown",
      "source": [
        "Call the solver with `float64` datatype"
      ],
      "metadata": {
        "id": "AZOEMAChYKf0"
      }
    },
    {
      "cell_type": "code",
      "source": [
        "t_i = 0.\n",
        "t_f = jnp.array(2., dtype=jnp.float64)\n",
        "\n",
        "y0 = jnp.array([[1.0, 9.0],\n",
        "               [1.0, 9.0]], dtype=jnp.float64)\n",
        "A = jnp.array([[0, 1.0],\n",
        "               [- 100.0, 0]], dtype=jnp.float64)\n",
        "\n",
        "print(solver(y0, t_f, A))"
      ],
      "metadata": {
        "id": "sHMsABvkjqfz"
      },
      "execution_count": null,
      "outputs": []
    },
    {
      "cell_type": "markdown",
      "source": [
        "Call `jax.jacrev` to compute the Jacobian. There are other routines `jax.jacrev`, `jax.jvp`, `jax.vjp` that we can invoke as well."
      ],
      "metadata": {
        "id": "1NrVnpE7YYxn"
      }
    },
    {
      "cell_type": "code",
      "source": [
        "t_f = jnp.array(2., dtype=jnp.float64)\n",
        "y0 = jnp.array([[1.0, 9.0],\n",
        "               [1.0, 9.0]], dtype=jnp.float64)\n",
        "A = jnp.array([[0, 1.0],\n",
        "               [- 100.0, 0]], dtype=jnp.float64)\n",
        "jacrev_fun = jax.jacrev(solver, argnums=(1),holomorphic=False)\n",
        "jac = jacrev_fun(y0, t_f, A)\n",
        "print(jac)"
      ],
      "metadata": {
        "id": "_ZguogFDzSn8"
      },
      "execution_count": null,
      "outputs": []
    },
    {
      "cell_type": "markdown",
      "source": [
        "Let us now try the code with complex values.\n",
        "\n",
        "When we compute the Jacobian for function with complex outputs, we must set `holomorphic=true`. A [holomorphic function](https://en.wikipedia.org/wiki/Holomorphic_function) is a complex-valued function of one or more complex variables that is complex differentiable in a neighbourhood of each point in a domain in complex coordinate space C^n.\n",
        "\n",
        "The following code will fail because `t_f` is not complex valued."
      ],
      "metadata": {
        "id": "Bkzt0nfhY0Lg"
      }
    },
    {
      "cell_type": "code",
      "source": [
        "t_f = jnp.array(2., dtype=jnp.float64)\n",
        "y0 = jnp.array([[1.0-1j, 9.0-2j],\n",
        "                [1.0-1j, 9.0-2j]], dtype=jnp.complex128)\n",
        "\n",
        "A = jnp.array([[0-1j, 1.0+2j],\n",
        "               [- 100.0+3j, 0+4j]], dtype=jnp.complex128)\n",
        "jacrev_fun = jax.jacrev(solver, argnums=(1),holomorphic=True)\n",
        "jac = jacrev_fun(y0, t_f, A)\n",
        "print(jac)"
      ],
      "metadata": {
        "id": "cQ7eHHP6zm1N"
      },
      "execution_count": null,
      "outputs": []
    },
    {
      "cell_type": "markdown",
      "source": [
        "When we set the time to be complex valued, the complex part of the derivatives [are set to zero](https://github.com/google/jax/blob/main/jax/experimental/ode.py#L245) inside JAX."
      ],
      "metadata": {
        "id": "nldQAZWJbArk"
      }
    },
    {
      "cell_type": "code",
      "source": [
        "t_f = jnp.array(2.+2j, dtype=jnp.complex128)\n",
        "y0 = jnp.array([[1.0-1j, 9.0-2j],\n",
        "                [1.0-1j, 9.0-2j]], dtype=jnp.complex128)\n",
        "\n",
        "A = jnp.array([[0-1j, 1.0+2j],\n",
        "               [- 100.0+3j, 0+4j]], dtype=jnp.complex128)\n",
        "jacrev_fun = jax.jacrev(solver, argnums=(1),holomorphic=True)\n",
        "jac = jacrev_fun(y0, t_f, A)\n",
        "print(jac)"
      ],
      "metadata": {
        "id": "Q8DiXDKmuJhW"
      },
      "execution_count": null,
      "outputs": []
    },
    {
      "cell_type": "markdown",
      "source": [
        "Uncommenting that line, gives us correct values. This is the small fix that we suggest!"
      ],
      "metadata": {
        "id": "cK2cGRJob2JZ"
      }
    }
  ]
}