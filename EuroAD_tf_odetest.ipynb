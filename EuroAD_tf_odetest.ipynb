{
  "nbformat": 4,
  "nbformat_minor": 0,
  "metadata": {
    "colab": {
      "provenance": [],
      "authorship_tag": "ABX9TyMmzYuAfZO1/UmXuUdnBqGh",
      "include_colab_link": true
    },
    "kernelspec": {
      "name": "python3",
      "display_name": "Python 3"
    },
    "language_info": {
      "name": "python"
    }
  },
  "cells": [
    {
      "cell_type": "markdown",
      "metadata": {
        "id": "view-in-github",
        "colab_type": "text"
      },
      "source": [
        "<a href=\"https://colab.research.google.com/github/sriharikrishna/EuroAD26/blob/main/EuroAD_tf_odetest.ipynb\" target=\"_parent\"><img src=\"https://colab.research.google.com/assets/colab-badge.svg\" alt=\"Open In Colab\"/></a>"
      ]
    },
    {
      "cell_type": "markdown",
      "source": [
        "`solve` is provided by the `tensorflow_probability` package."
      ],
      "metadata": {
        "id": "x2Eh8slODD23"
      }
    },
    {
      "cell_type": "code",
      "source": [
        "import tensorflow_probability as tfp\n",
        "import tensorflow as tf"
      ],
      "metadata": {
        "id": "wpW5JlA9DXy2"
      },
      "execution_count": null,
      "outputs": []
    },
    {
      "cell_type": "markdown",
      "source": [
        "The solver call works as follows. (This example does not have a wrapper)"
      ],
      "metadata": {
        "id": "wWJ_aaf6ELz8"
      }
    },
    {
      "cell_type": "code",
      "source": [
        "y0 = tf.Variable([2.0 , 6.], shape=(2,), dtype=tf.float64)\n",
        "t_i, t_m, t_f = 0., 0.5, 1.\n",
        "A = tf.Variable([[2., 4.], [3., 2.]], dtype = tf.float64)\n",
        "\n",
        "def ode_fn(_: float, y: tf.Tensor, A: tf.Tensor) -> tf.Tensor:\n",
        "    val = tf.linalg.matvec(A, y)\n",
        "    return val\n",
        "\n",
        "resultsfull = tfp.math.ode.DormandPrince().solve(ode_fn, t_i, y0,\n",
        "                              solution_times = tfp.math.ode.ChosenBySolver(final_time=t_f),\n",
        "                              #solution_times = [t_m, t_f],\n",
        "                              constants={\"A\": A})\n",
        "print(resultsfull.states[-1])"
      ],
      "metadata": {
        "id": "4A29HdIHDbL-"
      },
      "execution_count": null,
      "outputs": []
    },
    {
      "cell_type": "markdown",
      "source": [
        "The code is modified to compute the Jacobian. Importantly, we cannot express `t_i`  and `t_f` as variables, so we cannot get derivatives w.r.t. them."
      ],
      "metadata": {
        "id": "XgMLti5dESi2"
      }
    },
    {
      "cell_type": "code",
      "execution_count": null,
      "metadata": {
        "id": "jKWrgFmMY7Zs"
      },
      "outputs": [],
      "source": [
        "y0 = tf.Variable([2.0 , 6.], shape=(2,), dtype=tf.float64)\n",
        "t_i, t_m, t_f = 0., 0.5, 1.\n",
        "A = tf.Variable([[2., 4.], [3., 2.]], dtype = tf.float64)\n",
        "\n",
        "def ode_fn(_: float, y: tf.Tensor, A: tf.Tensor) -> tf.Tensor:\n",
        "    val = tf.linalg.matvec(A, y)\n",
        "    return val\n",
        "\n",
        "with tf.GradientTape(persistent=True) as tape:\n",
        "    tape.watch(y0)\n",
        "    resultsfull = tfp.math.ode.DormandPrince().solve(ode_fn, t_i, y0,\n",
        "                              solution_times = tfp.math.ode.ChosenBySolver(final_time=t_f),\n",
        "                              #solution_times = [t_m, t_f],\n",
        "                              constants={\"A\": A})\n",
        "print(resultsfull.states[-1])\n",
        "jac = tape.jacobian(resultsfull.states, y0, experimental_use_pfor=False)\n",
        "print(jac)"
      ]
    },
    {
      "cell_type": "markdown",
      "source": [
        "Running the code with complex data types leads to an error."
      ],
      "metadata": {
        "id": "hdvo-5x8GPKx"
      }
    },
    {
      "cell_type": "code",
      "source": [
        "import tensorflow_probability as tfp\n",
        "import tensorflow as tf\n",
        "\n",
        "y0 = tf.Variable([2.0 , 6.], shape=(2,), dtype=tf.complex128)\n",
        "t_i, t_m, t_f = 0., 0.5, 1.\n",
        "A = tf.Variable([[2., 4.], [3., 2.]], dtype = tf.complex128)\n",
        "\n",
        "def ode_fn(_: float, y: tf.Tensor, A: tf.Tensor) -> tf.Tensor:\n",
        "    val = tf.linalg.matvec(A, y)\n",
        "    return val\n",
        "\n",
        "with tf.GradientTape(persistent=True) as tape:\n",
        "    tape.watch(y0)\n",
        "    resultsfull = tfp.math.ode.DormandPrince().solve(ode_fn, t_i, y0,\n",
        "                              solution_times = tfp.math.ode.ChosenBySolver(final_time=t_f),\n",
        "                              #solution_times = [t_m, t_f],\n",
        "                              constants={\"A\": A})\n",
        "print(resultsfull.states[-1])\n",
        "jac = tape.jacobian(resultsfull.states, y0, experimental_use_pfor=False)\n",
        "print(jac)"
      ],
      "metadata": {
        "id": "IHM_kiQYgawb"
      },
      "execution_count": null,
      "outputs": []
    },
    {
      "cell_type": "markdown",
      "source": [
        "So we need to look elsewhere."
      ],
      "metadata": {
        "id": "TZA1MoYFG420"
      }
    }
  ]
}