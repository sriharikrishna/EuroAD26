{
  "nbformat": 4,
  "nbformat_minor": 0,
  "metadata": {
    "colab": {
      "provenance": [],
      "gpuType": "T4",
      "authorship_tag": "ABX9TyNIkD3OG5vLQH9JQEmTdMl6",
      "include_colab_link": true
    },
    "kernelspec": {
      "name": "python3",
      "display_name": "Python 3"
    },
    "language_info": {
      "name": "python"
    }
  },
  "cells": [
    {
      "cell_type": "markdown",
      "metadata": {
        "id": "view-in-github",
        "colab_type": "text"
      },
      "source": [
        "<a href=\"https://colab.research.google.com/github/sriharikrishna/EuroAD26/blob/main/EuroAD_pt_odetest.ipynb\" target=\"_parent\"><img src=\"https://colab.research.google.com/assets/colab-badge.svg\" alt=\"Open In Colab\"/></a>"
      ]
    },
    {
      "cell_type": "markdown",
      "source": [
        "`odeint` in PyTorch is provided by [`torchdiffeq`](https://github.com/rtqichen/torchdiffeq). We will initially install the default release, and use a different version later."
      ],
      "metadata": {
        "id": "RWG2Ecbk4oMc"
      }
    },
    {
      "cell_type": "code",
      "execution_count": null,
      "metadata": {
        "id": "ZWHLkAVBr3rH"
      },
      "outputs": [],
      "source": [
        "!pip uninstall torchdiffeq\n",
        "#Comment this line to use the developer's version\n",
        "!pip install torchdiffeq\n",
        "#Uncomment this line to use the developer's version\n",
        "#!pip install git+https://github.com/rtqichen/torchdiffeq"
      ]
    },
    {
      "cell_type": "markdown",
      "source": [
        "Import relevant packages"
      ],
      "metadata": {
        "id": "nT9CPPbV5A9K"
      }
    },
    {
      "cell_type": "code",
      "source": [
        "import torch\n",
        "from torchdiffeq import odeint as odeint"
      ],
      "metadata": {
        "id": "chAyyIUzsWN0"
      },
      "execution_count": null,
      "outputs": []
    },
    {
      "cell_type": "code",
      "source": [
        "COMPLEX_DTYPE = torch.complex128"
      ],
      "metadata": {
        "id": "9dxBpGWssYE0"
      },
      "execution_count": null,
      "outputs": []
    },
    {
      "cell_type": "markdown",
      "source": [
        "This defines a solver wrapper"
      ],
      "metadata": {
        "id": "CNrgsp1-5g6b"
      }
    },
    {
      "cell_type": "code",
      "source": [
        "def solver(y0, t_f, A):\n",
        "  t = torch.linspace(0., t_f.item(), 10)\n",
        "  def ode_fn(_: float, y: torch.Tensor):\n",
        "    return torch.matmul(A,y)\n",
        "  return odeint(ode_fn, y0, t, method='dopri5')[-1]"
      ],
      "metadata": {
        "id": "NkNoG-oi4K3V"
      },
      "execution_count": null,
      "outputs": []
    },
    {
      "cell_type": "markdown",
      "source": [
        "Let us first the code with `torch.complex128` datatype. For the default package, this will fail because of a check in the package."
      ],
      "metadata": {
        "id": "jY81VoM15I6B"
      }
    },
    {
      "cell_type": "code",
      "source": [
        "t_i = 0.\n",
        "t_f = torch.tensor(2.0, dtype=torch.float64)\n",
        "\n",
        "y0 = torch.tensor([[1.0-1j, 9.0-2j],\n",
        "                [1.0-1j, 9.0-2j]], dtype=COMPLEX_DTYPE)\n",
        "\n",
        "A = torch.tensor([[0-1j, 1.0+2j],\n",
        "               [- 100.0+3j, 0+4j]], dtype=COMPLEX_DTYPE)\n",
        "\n",
        "print(solver(y0, t_f, A))\n"
      ],
      "metadata": {
        "id": "lxvlKr91qk3e"
      },
      "execution_count": null,
      "outputs": []
    },
    {
      "cell_type": "markdown",
      "source": [
        "We asked the developer to remove the check, which has not been released yet.\n",
        "So let us change the version of `torchdiffeq` that is used, by editing the top box. Then we can rerun the preceding box."
      ],
      "metadata": {
        "id": "5B7Lk_1S6Vfd"
      }
    },
    {
      "cell_type": "markdown",
      "source": [
        "Now that the solver call works with complex data types, we can differentiate the code. It looks a little clunky, but it works."
      ],
      "metadata": {
        "id": "gunQqX___Y4N"
      }
    },
    {
      "cell_type": "code",
      "source": [
        "t_i = 0.\n",
        "t_f = torch.tensor(2.0, dtype=torch.float64, requires_grad=True)\n",
        "\n",
        "y0 = torch.tensor([[1.0-1j, 9.0-2j],\n",
        "                [1.0-1j, 9.0-2j]], dtype=COMPLEX_DTYPE, requires_grad=True)\n",
        "\n",
        "A = torch.tensor([[0-1j, 1.0+2j],\n",
        "               [- 100.0+3j, 0+4j]], dtype=COMPLEX_DTYPE, requires_grad=True)\n",
        "\n",
        "final_state = solver(y0, t_f, A)\n",
        "\n",
        "final_state.grad= None\n",
        "seed = torch.zeros((2,2), dtype=torch.complex64)\n",
        "for i in range(2):\n",
        "  for j in range(2):\n",
        "    seed[i,j] = 1.0+0.j\n",
        "    final_state.backward(seed,retain_graph=True)\n",
        "    print(\"d(finalstate[\",i,\",\",j,\"])/d(y0)= \", y0.grad)\n",
        "    print(\"d(finalstate[\",i,\",\",j,\"])/d(A)= \", A.grad)\n",
        "    print(\"d(finalstate[\",i,\",\",j,\"])/d(t_f)= \", t_f.grad)"
      ],
      "metadata": {
        "id": "_itUpR4025W3"
      },
      "execution_count": null,
      "outputs": []
    },
    {
      "cell_type": "markdown",
      "source": [
        "Note that the derivatives w.r.t. `time` are all `None`.  So we will have to use something else."
      ],
      "metadata": {
        "id": "L-Nfg291_rxK"
      }
    }
  ]
}