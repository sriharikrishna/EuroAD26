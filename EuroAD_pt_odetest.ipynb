{
  "nbformat": 4,
  "nbformat_minor": 0,
  "metadata": {
    "colab": {
      "provenance": [],
      "gpuType": "T4"
    },
    "kernelspec": {
      "name": "python3",
      "display_name": "Python 3"
    },
    "language_info": {
      "name": "python"
    }
  },
  "cells": [
    {
      "cell_type": "code",
      "execution_count": 2,
      "metadata": {
        "colab": {
          "base_uri": "https://localhost:8080/"
        },
        "id": "ZWHLkAVBr3rH",
        "outputId": "00283f56-bc4b-47b8-bbbf-af9f57eb6f7e"
      },
      "outputs": [
        {
          "output_type": "stream",
          "name": "stdout",
          "text": [
            "Found existing installation: torchdiffeq 0.2.3\n",
            "Uninstalling torchdiffeq-0.2.3:\n",
            "  Would remove:\n",
            "    /usr/local/lib/python3.10/dist-packages/torchdiffeq-0.2.3.dist-info/*\n",
            "    /usr/local/lib/python3.10/dist-packages/torchdiffeq/*\n",
            "Proceed (Y/n)? y\n",
            "  Successfully uninstalled torchdiffeq-0.2.3\n",
            "Collecting git+https://github.com/rtqichen/torchdiffeq\n",
            "  Cloning https://github.com/rtqichen/torchdiffeq to /tmp/pip-req-build-fi1v2izs\n",
            "  Running command git clone --filter=blob:none --quiet https://github.com/rtqichen/torchdiffeq /tmp/pip-req-build-fi1v2izs\n",
            "  Resolved https://github.com/rtqichen/torchdiffeq to commit cae73789b929d4dbe8ce955dace0089cf981c1a0\n",
            "  Preparing metadata (setup.py) ... \u001b[?25l\u001b[?25hdone\n",
            "Requirement already satisfied: torch>=1.5.0 in /usr/local/lib/python3.10/dist-packages (from torchdiffeq==0.2.4) (2.1.0+cu118)\n",
            "Requirement already satisfied: scipy>=1.4.0 in /usr/local/lib/python3.10/dist-packages (from torchdiffeq==0.2.4) (1.11.4)\n",
            "Requirement already satisfied: numpy<1.28.0,>=1.21.6 in /usr/local/lib/python3.10/dist-packages (from scipy>=1.4.0->torchdiffeq==0.2.4) (1.23.5)\n",
            "Requirement already satisfied: filelock in /usr/local/lib/python3.10/dist-packages (from torch>=1.5.0->torchdiffeq==0.2.4) (3.13.1)\n",
            "Requirement already satisfied: typing-extensions in /usr/local/lib/python3.10/dist-packages (from torch>=1.5.0->torchdiffeq==0.2.4) (4.5.0)\n",
            "Requirement already satisfied: sympy in /usr/local/lib/python3.10/dist-packages (from torch>=1.5.0->torchdiffeq==0.2.4) (1.12)\n",
            "Requirement already satisfied: networkx in /usr/local/lib/python3.10/dist-packages (from torch>=1.5.0->torchdiffeq==0.2.4) (3.2.1)\n",
            "Requirement already satisfied: jinja2 in /usr/local/lib/python3.10/dist-packages (from torch>=1.5.0->torchdiffeq==0.2.4) (3.1.2)\n",
            "Requirement already satisfied: fsspec in /usr/local/lib/python3.10/dist-packages (from torch>=1.5.0->torchdiffeq==0.2.4) (2023.6.0)\n",
            "Requirement already satisfied: triton==2.1.0 in /usr/local/lib/python3.10/dist-packages (from torch>=1.5.0->torchdiffeq==0.2.4) (2.1.0)\n",
            "Requirement already satisfied: MarkupSafe>=2.0 in /usr/local/lib/python3.10/dist-packages (from jinja2->torch>=1.5.0->torchdiffeq==0.2.4) (2.1.3)\n",
            "Requirement already satisfied: mpmath>=0.19 in /usr/local/lib/python3.10/dist-packages (from sympy->torch>=1.5.0->torchdiffeq==0.2.4) (1.3.0)\n",
            "Building wheels for collected packages: torchdiffeq\n",
            "  Building wheel for torchdiffeq (setup.py) ... \u001b[?25l\u001b[?25hdone\n",
            "  Created wheel for torchdiffeq: filename=torchdiffeq-0.2.4-py3-none-any.whl size=32834 sha256=ad8b4217726321fb48badafe8461bf0774e78205986229151292aaceb81d4ffa\n",
            "  Stored in directory: /tmp/pip-ephem-wheel-cache-9env7i95/wheels/bf/c5/d1/bcd542e9c229733ac090ecaaa056ca22dafcba7a9e602f765e\n",
            "Successfully built torchdiffeq\n",
            "Installing collected packages: torchdiffeq\n",
            "Successfully installed torchdiffeq-0.2.4\n"
          ]
        }
      ],
      "source": [
        "!pip uninstall torchdiffeq\n",
        "#!pip install torchdiffeq\n",
        "!pip install git+https://github.com/rtqichen/torchdiffeq"
      ]
    },
    {
      "cell_type": "code",
      "source": [
        "import os\n",
        "import argparse\n",
        "import time\n",
        "\n",
        "import torch\n",
        "import torch.nn as nn\n",
        "import torch.optim as optim\n",
        "\n",
        "from torchdiffeq import odeint as odeint\n",
        "import functools\n",
        "import sys\n",
        "import math"
      ],
      "metadata": {
        "id": "chAyyIUzsWN0"
      },
      "execution_count": 3,
      "outputs": []
    },
    {
      "cell_type": "code",
      "source": [
        "COMPLEX_DTYPE = torch.complex128"
      ],
      "metadata": {
        "id": "9dxBpGWssYE0"
      },
      "execution_count": 4,
      "outputs": []
    },
    {
      "cell_type": "code",
      "source": [
        "t_i = 0.\n",
        "t_f = torch.tensor(2.0, dtype=torch.float64)\n",
        "\n",
        "y0 = torch.tensor([[1.0-1j, 9.0-2j],\n",
        "                [1.0-1j, 9.0-2j]], dtype=COMPLEX_DTYPE)\n",
        "\n",
        "A = torch.tensor([[0-1j, 1.0+2j],\n",
        "               [- 100.0+3j, 0+4j]], dtype=COMPLEX_DTYPE)"
      ],
      "metadata": {
        "id": "lxvlKr91qk3e"
      },
      "execution_count": 23,
      "outputs": []
    },
    {
      "cell_type": "code",
      "source": [
        "def solver(y0, t_f, A):\n",
        "  t = torch.linspace(0., t_f.item(), 10)\n",
        "  def ode_fn(_: float, y: torch.Tensor):\n",
        "    return torch.matmul(A,y)\n",
        "  return odeint(ode_fn, y0, t, method='dopri5')[-1]\n",
        "\n",
        "final_state = solver(y0, t_f, A)\n",
        "print(final_state)"
      ],
      "metadata": {
        "id": "NkNoG-oi4K3V",
        "colab": {
          "base_uri": "https://localhost:8080/",
          "height": 105
        },
        "outputId": "1f4e56e8-2a16-402f-bca7-8e8a29331407"
      },
      "execution_count": 24,
      "outputs": [
        {
          "output_type": "stream",
          "name": "stdout",
          "text": [
            "tensor([[ 6.1990e+05+2733558.9655j, -6.1580e+06+17204207.0352j],\n",
            "        [ 1.2353e+07-10545445.5707j,  1.0485e+08-14763334.4577j]],\n",
            "       dtype=torch.complex128)\n"
          ]
        },
        {
          "output_type": "execute_result",
          "data": {
            "text/plain": [
              "'\\n        [[ 6.1990e+05+2.7336e+06j, -6.1580e+06+1.7204e+07j],\\n         [ 1.2353e+07-1.0545e+07j,  1.0485e+08-1.4763e+07j]]]\\n'"
            ],
            "application/vnd.google.colaboratory.intrinsic+json": {
              "type": "string"
            }
          },
          "metadata": {},
          "execution_count": 24
        }
      ]
    },
    {
      "cell_type": "code",
      "source": [
        "t_i = 0.\n",
        "t_f = torch.tensor(2.0, dtype=torch.float64, requires_grad=True)\n",
        "\n",
        "y0 = torch.tensor([[1.0-1j, 9.0-2j],\n",
        "                [1.0-1j, 9.0-2j]], dtype=COMPLEX_DTYPE, requires_grad=True)\n",
        "\n",
        "A = torch.tensor([[0-1j, 1.0+2j],\n",
        "               [- 100.0+3j, 0+4j]], dtype=COMPLEX_DTYPE, requires_grad=True)\n",
        "\n",
        "final_state = solver(y0, t_f, A)\n",
        "\n",
        "final_state.grad= None\n",
        "seed = torch.zeros((2,2), dtype=torch.complex64)\n",
        "for i in range(2):\n",
        "  for j in range(2):\n",
        "    seed[i,j] = 1.0+0.j\n",
        "    final_state.backward(seed,retain_graph=True)\n",
        "    print(\"d(finalstate[\",i,\",\",j,\"])/d(y0)= \", y0.grad)\n",
        "    print(\"d(finalstate[\",i,\",\",j,\"])/d(A)= \", A.grad)\n",
        "    print(\"d(finalstate[\",i,\",\",j,\"])/d(t_f)= \", t_f.grad)"
      ],
      "metadata": {
        "colab": {
          "base_uri": "https://localhost:8080/"
        },
        "id": "_itUpR4025W3",
        "outputId": "a3dafb91-6c1b-41ad-fc29-3516a0113122"
      },
      "execution_count": 25,
      "outputs": [
        {
          "output_type": "stream",
          "name": "stdout",
          "text": [
            "d(finalstate[ 0 , 0 ])/d(y0)=  tensor([[-9.3240e+05-1.9241e+06j,  1.6603e-04-8.1419e-05j],\n",
            "        [-1.2443e+05+2.4739e+05j, -1.6563e-04+8.1330e-05j]],\n",
            "       dtype=torch.complex128)\n",
            "d(finalstate[ 0 , 0 ])/d(A)=  tensor([[  875946.4151-3135587.1573j, 13093469.8333+12996827.7377j],\n",
            "        [ -390244.2989+144838.0280j,   363842.7668-2331530.9311j]],\n",
            "       dtype=torch.complex128)\n",
            "d(finalstate[ 0 , 0 ])/d(t_f)=  None\n",
            "d(finalstate[ 0 , 1 ])/d(y0)=  tensor([[-1864803.2054-3848230.6711j,  -932401.6035-1924115.3333j],\n",
            "        [ -248860.6958+494776.6413j,  -124430.3472+247388.3184j]],\n",
            "       dtype=torch.complex128)\n",
            "d(finalstate[ 0 , 1 ])/d(A)=  tensor([[-4.4050e+06-26582716.1339j,  1.4369e+08+51649063.6144j],\n",
            "        [-2.4199e+06+2452140.2558j, -5.4315e+06-18759931.6687j]],\n",
            "       dtype=torch.complex128)\n",
            "d(finalstate[ 0 , 1 ])/d(t_f)=  None\n",
            "d(finalstate[ 1 , 0 ])/d(y0)=  tensor([[ 9586051.4121-5371374.3273j, -1864803.2070-3848230.6665j],\n",
            "        [-1307165.0240-562743.3866j,  -248860.6942+494776.6367j]],\n",
            "       dtype=torch.complex128)\n",
            "d(finalstate[ 1 , 0 ])/d(A)=  tensor([[ 3.5312e+06-3.6909e+07j,  1.7279e+08+1.1936e+08j],\n",
            "        [-4.2093e+06+2.3038e+06j,  2.6271e+05-2.7218e+07j]],\n",
            "       dtype=torch.complex128)\n",
            "d(finalstate[ 1 , 0 ])/d(t_f)=  None\n",
            "d(finalstate[ 1 , 1 ])/d(y0)=  tensor([[21036906.0459-6894518.0104j,  9586051.4126-5371374.3203j],\n",
            "        [-2365469.3683-1620263.3879j, -1307165.0246-562743.3934j]],\n",
            "       dtype=torch.complex128)\n",
            "d(finalstate[ 1 , 1 ])/d(A)=  tensor([[ 1.3008e+08-2.1329e+07j, -2.5466e+08+7.0216e+08j],\n",
            "        [-1.3272e+07-1.2192e+07j,  9.7045e+07-3.2056e+07j]],\n",
            "       dtype=torch.complex128)\n",
            "d(finalstate[ 1 , 1 ])/d(t_f)=  None\n"
          ]
        }
      ]
    }
  ]
}