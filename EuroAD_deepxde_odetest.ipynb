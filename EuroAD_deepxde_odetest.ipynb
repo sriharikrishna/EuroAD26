{
  "nbformat": 4,
  "nbformat_minor": 0,
  "metadata": {
    "colab": {
      "provenance": [],
      "authorship_tag": "ABX9TyO3BknZEVWy+q2twawtCx9m",
      "include_colab_link": true
    },
    "kernelspec": {
      "name": "python3",
      "display_name": "Python 3"
    },
    "language_info": {
      "name": "python"
    }
  },
  "cells": [
    {
      "cell_type": "markdown",
      "metadata": {
        "id": "view-in-github",
        "colab_type": "text"
      },
      "source": [
        "<a href=\"https://colab.research.google.com/github/sriharikrishna/EuroAD26/blob/main/EuroAD_deepxde_odetest.ipynb\" target=\"_parent\"><img src=\"https://colab.research.google.com/assets/colab-badge.svg\" alt=\"Open In Colab\"/></a>"
      ]
    },
    {
      "cell_type": "markdown",
      "source": [
        "[DeepXDE](https://deepxde.readthedocs.io/en/latest/) is a library for scientific machine learning and physics-informed learning.\n",
        "\n",
        "We start by installing it."
      ],
      "metadata": {
        "id": "rFf4_O4oIlnF"
      }
    },
    {
      "cell_type": "code",
      "execution_count": null,
      "metadata": {
        "id": "R9I01u5OLonE"
      },
      "outputs": [],
      "source": [
        "!pip install deepxde"
      ]
    },
    {
      "cell_type": "markdown",
      "source": [
        "First the imports"
      ],
      "metadata": {
        "id": "4dDt5g3IJbSX"
      }
    },
    {
      "cell_type": "code",
      "source": [
        "\"\"\"Backend supported: tensorflow.compat.v1, tensorflow, pytorch, jax, paddle\"\"\"\n",
        "import deepxde as dde\n",
        "import numpy as np"
      ],
      "metadata": {
        "id": "TUTt5A4wJaoc"
      },
      "execution_count": null,
      "outputs": []
    },
    {
      "cell_type": "markdown",
      "source": [],
      "metadata": {
        "id": "q_th7axaJacc"
      }
    },
    {
      "cell_type": "markdown",
      "source": [
        "This is an ODE Solver system provided as an [example](https://deepxde.readthedocs.io/en/latest/demos/pinn_forward/ode.system.html)."
      ],
      "metadata": {
        "id": "3pSR41ZcJBgv"
      }
    },
    {
      "cell_type": "code",
      "source": [
        "def ode_system(x, y):\n",
        "    \"\"\"ODE system.\n",
        "    dy1/dx = y2\n",
        "    dy2/dx = -y1\n",
        "    \"\"\"\n",
        "    # Most backends\n",
        "    y1, y2 = y[:, 0:1], y[:, 1:]\n",
        "    dy1_x = dde.grad.jacobian(y, x, i=0)\n",
        "    dy2_x = dde.grad.jacobian(y, x, i=1)\n",
        "    # Backend jax\n",
        "    # y_val, y_fn = y\n",
        "    # y1, y2 = y_val[:, 0:1], y_val[:, 1:]\n",
        "    # dy1_x, _ = dde.grad.jacobian(y, x, i=0)\n",
        "    # dy2_x, _ = dde.grad.jacobian(y, x, i=1)\n",
        "    return [dy1_x - y2, dy2_x + y1]\n",
        "\n",
        "\n",
        "def boundary(_, on_initial):\n",
        "    return on_initial\n",
        "\n",
        "\n",
        "def func(x):\n",
        "    \"\"\"\n",
        "    y1 = sin(x)\n",
        "    y2 = cos(x)\n",
        "    \"\"\"\n",
        "    return np.hstack((np.sin(x), np.cos(x)))"
      ],
      "metadata": {
        "id": "i63F4rtHLpHz"
      },
      "execution_count": null,
      "outputs": []
    },
    {
      "cell_type": "markdown",
      "source": [
        "Run the system using `float` data types"
      ],
      "metadata": {
        "id": "fhDH48DKJp4j"
      }
    },
    {
      "cell_type": "code",
      "source": [
        "val = 1.0\n",
        "val1 = 0.0\n",
        "val2 = 1.0\n",
        "\n",
        "geom = dde.geometry.TimeDomain(0, val)\n",
        "ic1 = dde.icbc.IC(geom, lambda x: val1, boundary, component=0)\n",
        "ic2 = dde.icbc.IC(geom, lambda x: val2, boundary, component=1)\n",
        "data = dde.data.PDE(geom, ode_system, [ic1, ic2], 35, 2, solution=func, num_test=100)\n",
        "\n",
        "layer_size = [1] + [50] * 3 + [2]\n",
        "activation = \"tanh\"\n",
        "initializer = \"Glorot uniform\"\n",
        "net = dde.nn.FNN(layer_size, activation, initializer)\n",
        "\n",
        "model = dde.Model(data, net)\n",
        "model.compile(\"adam\", lr=0.001, metrics=[\"l2 relative error\"])\n",
        "losshistory, train_state = model.train(iterations=20000)\n",
        "\n",
        "#dde.saveplot(losshistory, train_state, issave=True, isplot=True)"
      ],
      "metadata": {
        "id": "4q55JpZmJkUT"
      },
      "execution_count": null,
      "outputs": []
    },
    {
      "cell_type": "markdown",
      "source": [
        "Running the same code with complex data does not work"
      ],
      "metadata": {
        "id": "CqxgoDtsKDoF"
      }
    },
    {
      "cell_type": "code",
      "source": [
        "val = 1.0 + 2j\n",
        "val1 = 0.0 + 2j\n",
        "val2 = 1.0 + 2j\n",
        "\n",
        "geom = dde.geometry.TimeDomain(0, val)\n",
        "ic1 = dde.icbc.IC(geom, lambda x: val1, boundary, component=0)\n",
        "ic2 = dde.icbc.IC(geom, lambda x: val2, boundary, component=1)\n",
        "data = dde.data.PDE(geom, ode_system, [ic1, ic2], 35, 2, solution=func, num_test=100)\n",
        "\n",
        "layer_size = [1] + [50] * 3 + [2]\n",
        "activation = \"tanh\"\n",
        "initializer = \"Glorot uniform\"\n",
        "net = dde.nn.FNN(layer_size, activation, initializer)\n",
        "\n",
        "model = dde.Model(data, net)\n",
        "model.compile(\"adam\", lr=0.001, metrics=[\"l2 relative error\"])\n",
        "losshistory, train_state = model.train(iterations=20000)"
      ],
      "metadata": {
        "id": "3SouALZLKCLh"
      },
      "execution_count": null,
      "outputs": []
    },
    {
      "cell_type": "markdown",
      "source": [
        "So we have to look elsewhere"
      ],
      "metadata": {
        "id": "sJznys6aKBe7"
      }
    }
  ]
}